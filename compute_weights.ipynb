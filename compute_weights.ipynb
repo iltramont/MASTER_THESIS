{
 "cells": [
  {
   "cell_type": "code",
   "execution_count": 1,
   "id": "initial_id",
   "metadata": {
    "collapsed": true,
    "ExecuteTime": {
     "end_time": "2024-07-05T17:15:35.255954Z",
     "start_time": "2024-07-05T17:15:33.716776Z"
    }
   },
   "outputs": [],
   "source": [
    "import numpy as np\n",
    "import pandas as pd\n",
    "import yfinance as yf\n",
    "import datetime\n",
    "\n",
    "import utils"
   ]
  },
  {
   "cell_type": "code",
   "outputs": [],
   "source": [
    "STARTING_DAY = datetime.datetime(1989, 1, 1)\n",
    "FIRST_ACTION_DAY = datetime.datetime(1994, 1, 1)"
   ],
   "metadata": {
    "collapsed": false,
    "ExecuteTime": {
     "end_time": "2024-07-05T17:15:35.270951Z",
     "start_time": "2024-07-05T17:15:35.258053Z"
    }
   },
   "id": "45dd436c07f3157e",
   "execution_count": 2
  },
  {
   "cell_type": "markdown",
   "source": [
    "# Load data"
   ],
   "metadata": {
    "collapsed": false
   },
   "id": "adbaabf714baeb0f"
  },
  {
   "cell_type": "code",
   "outputs": [],
   "source": [
    "selected_stocks = pd.read_excel('data/selected_stocks.xlsx')"
   ],
   "metadata": {
    "collapsed": false,
    "ExecuteTime": {
     "end_time": "2024-07-05T17:15:35.492338Z",
     "start_time": "2024-07-05T17:15:35.273163Z"
    }
   },
   "id": "e314424533e5402d",
   "execution_count": 3
  },
  {
   "cell_type": "code",
   "outputs": [
    {
     "data": {
      "text/plain": "   Symbol                   Security             GICS Sector  \\\n0    AAPL                 Apple Inc.  Information Technology   \n1     LLY      Eli Lilly and Company             Health Care   \n2     JPM             JPMorgan Chase              Financials   \n3     WMT                    Walmart        Consumer Staples   \n4     XOM                 ExxonMobil                  Energy   \n5      HD           Home Depot (The)  Consumer Discretionary   \n6     DIS  Walt Disney Company (The)  Communication Services   \n7      GE               GE Aerospace             Industrials   \n8     NEE             NextEra Energy               Utilities   \n9     SHW           Sherwin-Williams               Materials   \n10     WY               Weyerhaeuser             Real Estate   \n\n                             GICS Sub-Industry Date added  \\\n0   Technology Hardware, Storage & Peripherals 1982-11-30   \n1                              Pharmaceuticals 1970-12-31   \n2                            Diversified Banks 1975-06-30   \n3          Consumer Staples Merchandise Retail 1982-08-31   \n4                         Integrated Oil & Gas 1957-03-04   \n5                      Home Improvement Retail 1988-03-31   \n6                       Movies & Entertainment 1976-06-30   \n7                          Aerospace & Defense 1957-03-04   \n8                              Multi-Utilities 1976-06-30   \n9                          Specialty Chemicals 1964-06-30   \n10                                Timber REITs 1979-10-01   \n\n    Market Capitalization  \n0            3.453699e+12  \n1            8.201159e+11  \n2            5.886924e+11  \n3            5.541597e+11  \n4            5.105079e+11  \n5            3.317444e+11  \n6            1.781057e+11  \n7            1.750829e+11  \n8            1.479467e+11  \n9            7.506090e+10  \n10           1.974543e+10  ",
      "text/html": "<div>\n<style scoped>\n    .dataframe tbody tr th:only-of-type {\n        vertical-align: middle;\n    }\n\n    .dataframe tbody tr th {\n        vertical-align: top;\n    }\n\n    .dataframe thead th {\n        text-align: right;\n    }\n</style>\n<table border=\"1\" class=\"dataframe\">\n  <thead>\n    <tr style=\"text-align: right;\">\n      <th></th>\n      <th>Symbol</th>\n      <th>Security</th>\n      <th>GICS Sector</th>\n      <th>GICS Sub-Industry</th>\n      <th>Date added</th>\n      <th>Market Capitalization</th>\n    </tr>\n  </thead>\n  <tbody>\n    <tr>\n      <th>0</th>\n      <td>AAPL</td>\n      <td>Apple Inc.</td>\n      <td>Information Technology</td>\n      <td>Technology Hardware, Storage &amp; Peripherals</td>\n      <td>1982-11-30</td>\n      <td>3.453699e+12</td>\n    </tr>\n    <tr>\n      <th>1</th>\n      <td>LLY</td>\n      <td>Eli Lilly and Company</td>\n      <td>Health Care</td>\n      <td>Pharmaceuticals</td>\n      <td>1970-12-31</td>\n      <td>8.201159e+11</td>\n    </tr>\n    <tr>\n      <th>2</th>\n      <td>JPM</td>\n      <td>JPMorgan Chase</td>\n      <td>Financials</td>\n      <td>Diversified Banks</td>\n      <td>1975-06-30</td>\n      <td>5.886924e+11</td>\n    </tr>\n    <tr>\n      <th>3</th>\n      <td>WMT</td>\n      <td>Walmart</td>\n      <td>Consumer Staples</td>\n      <td>Consumer Staples Merchandise Retail</td>\n      <td>1982-08-31</td>\n      <td>5.541597e+11</td>\n    </tr>\n    <tr>\n      <th>4</th>\n      <td>XOM</td>\n      <td>ExxonMobil</td>\n      <td>Energy</td>\n      <td>Integrated Oil &amp; Gas</td>\n      <td>1957-03-04</td>\n      <td>5.105079e+11</td>\n    </tr>\n    <tr>\n      <th>5</th>\n      <td>HD</td>\n      <td>Home Depot (The)</td>\n      <td>Consumer Discretionary</td>\n      <td>Home Improvement Retail</td>\n      <td>1988-03-31</td>\n      <td>3.317444e+11</td>\n    </tr>\n    <tr>\n      <th>6</th>\n      <td>DIS</td>\n      <td>Walt Disney Company (The)</td>\n      <td>Communication Services</td>\n      <td>Movies &amp; Entertainment</td>\n      <td>1976-06-30</td>\n      <td>1.781057e+11</td>\n    </tr>\n    <tr>\n      <th>7</th>\n      <td>GE</td>\n      <td>GE Aerospace</td>\n      <td>Industrials</td>\n      <td>Aerospace &amp; Defense</td>\n      <td>1957-03-04</td>\n      <td>1.750829e+11</td>\n    </tr>\n    <tr>\n      <th>8</th>\n      <td>NEE</td>\n      <td>NextEra Energy</td>\n      <td>Utilities</td>\n      <td>Multi-Utilities</td>\n      <td>1976-06-30</td>\n      <td>1.479467e+11</td>\n    </tr>\n    <tr>\n      <th>9</th>\n      <td>SHW</td>\n      <td>Sherwin-Williams</td>\n      <td>Materials</td>\n      <td>Specialty Chemicals</td>\n      <td>1964-06-30</td>\n      <td>7.506090e+10</td>\n    </tr>\n    <tr>\n      <th>10</th>\n      <td>WY</td>\n      <td>Weyerhaeuser</td>\n      <td>Real Estate</td>\n      <td>Timber REITs</td>\n      <td>1979-10-01</td>\n      <td>1.974543e+10</td>\n    </tr>\n  </tbody>\n</table>\n</div>"
     },
     "metadata": {},
     "output_type": "display_data"
    }
   ],
   "source": [
    "display(selected_stocks)"
   ],
   "metadata": {
    "collapsed": false,
    "ExecuteTime": {
     "end_time": "2024-07-05T17:15:35.522961Z",
     "start_time": "2024-07-05T17:15:35.494496Z"
    }
   },
   "id": "286256b452efabb1",
   "execution_count": 4
  },
  {
   "cell_type": "code",
   "outputs": [],
   "source": [
    "# Download prices\n",
    "symbols = selected_stocks['Symbol'].tolist()"
   ],
   "metadata": {
    "collapsed": false,
    "ExecuteTime": {
     "end_time": "2024-07-05T17:15:35.538490Z",
     "start_time": "2024-07-05T17:15:35.525154Z"
    }
   },
   "id": "ea805a74413b55b6",
   "execution_count": 5
  },
  {
   "cell_type": "code",
   "outputs": [
    {
     "name": "stderr",
     "output_type": "stream",
     "text": [
      "[*********************100%%**********************]  11 of 11 completed\n"
     ]
    }
   ],
   "source": [
    "prices = yf.download(symbols)"
   ],
   "metadata": {
    "collapsed": false,
    "ExecuteTime": {
     "end_time": "2024-07-05T17:15:38.301856Z",
     "start_time": "2024-07-05T17:15:35.539623Z"
    }
   },
   "id": "9217e9ca454c35c",
   "execution_count": 6
  },
  {
   "cell_type": "code",
   "outputs": [],
   "source": [
    "# Exclude data before STARTING DAY\n",
    "prices = prices.loc[STARTING_DAY:]"
   ],
   "metadata": {
    "collapsed": false,
    "ExecuteTime": {
     "end_time": "2024-07-05T17:15:38.317454Z",
     "start_time": "2024-07-05T17:15:38.302805Z"
    }
   },
   "id": "8bf789965667632f",
   "execution_count": 7
  },
  {
   "cell_type": "markdown",
   "source": [
    "# Compute returns"
   ],
   "metadata": {
    "collapsed": false
   },
   "id": "6944517ae5a4ad9d"
  },
  {
   "cell_type": "code",
   "outputs": [],
   "source": [
    "# Separate variables\n",
    "adj_close_df = prices['Adj Close']\n",
    "close_df = prices['Close']\n",
    "open_df = prices['Open']\n",
    "\n",
    "adj_close_returns = utils.compute_returns(adj_close_df)\n",
    "close_returns = utils.compute_returns(close_df)\n",
    "open_returns = utils.compute_returns(open_df)"
   ],
   "metadata": {
    "collapsed": false,
    "ExecuteTime": {
     "end_time": "2024-07-05T17:15:38.349159Z",
     "start_time": "2024-07-05T17:15:38.319938Z"
    }
   },
   "id": "b8d65044396f894b",
   "execution_count": 8
  },
  {
   "cell_type": "code",
   "outputs": [],
   "source": [
    "today = datetime.date.today()\n",
    "current_year = today.year\n",
    "current_month = today.month\n",
    "action_days = []\n",
    "for year in range(FIRST_ACTION_DAY.year, current_year + 1):\n",
    "    for month in range(1, 13):\n",
    "        if year == current_year and month == current_month:\n",
    "            break\n",
    "        action_days.append(datetime.datetime(year, month, 1))"
   ],
   "metadata": {
    "collapsed": false,
    "ExecuteTime": {
     "end_time": "2024-07-05T17:15:38.364428Z",
     "start_time": "2024-07-05T17:15:38.351320Z"
    }
   },
   "id": "6401ec54eef7fc85",
   "execution_count": 9
  },
  {
   "cell_type": "code",
   "outputs": [],
   "source": [
    "# Utility function to compute covariance matrix\n",
    "def get_period_for_variance_computation_from_action_date(date: datetime.datetime, lookback: int = 5) -> datetime.datetime:\n",
    "    year, month, day = date.year, date.month, date.day\n",
    "    return datetime.datetime(year - 5, month, day)"
   ],
   "metadata": {
    "collapsed": false,
    "ExecuteTime": {
     "end_time": "2024-07-05T17:15:38.379265Z",
     "start_time": "2024-07-05T17:15:38.366693Z"
    }
   },
   "id": "6e9b2aea57d68fd3",
   "execution_count": 10
  },
  {
   "cell_type": "markdown",
   "source": [
    "# Compute weights dataframe"
   ],
   "metadata": {
    "collapsed": false
   },
   "id": "3b0c1a7cb216a57f"
  },
  {
   "cell_type": "markdown",
   "source": [
    "## 1) Equal weight"
   ],
   "metadata": {
    "collapsed": false
   },
   "id": "435084f22047e882"
  },
  {
   "cell_type": "code",
   "outputs": [],
   "source": [
    "number_of_action_days = len(action_days)\n",
    "n_stocks = len(symbols)\n",
    "matrix = (1/n_stocks) * np.ones((number_of_action_days, n_stocks), dtype=float)\n",
    "ew_weights_df = pd.DataFrame(matrix, index=action_days, columns=adj_close_returns.columns)"
   ],
   "metadata": {
    "collapsed": false,
    "ExecuteTime": {
     "end_time": "2024-07-05T17:15:38.394758Z",
     "start_time": "2024-07-05T17:15:38.381317Z"
    }
   },
   "id": "a0c998b350af40c3",
   "execution_count": 11
  },
  {
   "cell_type": "code",
   "outputs": [
    {
     "data": {
      "text/plain": "Ticker          AAPL       DIS        GE        HD       JPM       LLY  \\\n1994-01-01  0.090909  0.090909  0.090909  0.090909  0.090909  0.090909   \n1994-02-01  0.090909  0.090909  0.090909  0.090909  0.090909  0.090909   \n1994-03-01  0.090909  0.090909  0.090909  0.090909  0.090909  0.090909   \n1994-04-01  0.090909  0.090909  0.090909  0.090909  0.090909  0.090909   \n1994-05-01  0.090909  0.090909  0.090909  0.090909  0.090909  0.090909   \n\nTicker           NEE       SHW       WMT        WY       XOM  \n1994-01-01  0.090909  0.090909  0.090909  0.090909  0.090909  \n1994-02-01  0.090909  0.090909  0.090909  0.090909  0.090909  \n1994-03-01  0.090909  0.090909  0.090909  0.090909  0.090909  \n1994-04-01  0.090909  0.090909  0.090909  0.090909  0.090909  \n1994-05-01  0.090909  0.090909  0.090909  0.090909  0.090909  ",
      "text/html": "<div>\n<style scoped>\n    .dataframe tbody tr th:only-of-type {\n        vertical-align: middle;\n    }\n\n    .dataframe tbody tr th {\n        vertical-align: top;\n    }\n\n    .dataframe thead th {\n        text-align: right;\n    }\n</style>\n<table border=\"1\" class=\"dataframe\">\n  <thead>\n    <tr style=\"text-align: right;\">\n      <th>Ticker</th>\n      <th>AAPL</th>\n      <th>DIS</th>\n      <th>GE</th>\n      <th>HD</th>\n      <th>JPM</th>\n      <th>LLY</th>\n      <th>NEE</th>\n      <th>SHW</th>\n      <th>WMT</th>\n      <th>WY</th>\n      <th>XOM</th>\n    </tr>\n  </thead>\n  <tbody>\n    <tr>\n      <th>1994-01-01</th>\n      <td>0.090909</td>\n      <td>0.090909</td>\n      <td>0.090909</td>\n      <td>0.090909</td>\n      <td>0.090909</td>\n      <td>0.090909</td>\n      <td>0.090909</td>\n      <td>0.090909</td>\n      <td>0.090909</td>\n      <td>0.090909</td>\n      <td>0.090909</td>\n    </tr>\n    <tr>\n      <th>1994-02-01</th>\n      <td>0.090909</td>\n      <td>0.090909</td>\n      <td>0.090909</td>\n      <td>0.090909</td>\n      <td>0.090909</td>\n      <td>0.090909</td>\n      <td>0.090909</td>\n      <td>0.090909</td>\n      <td>0.090909</td>\n      <td>0.090909</td>\n      <td>0.090909</td>\n    </tr>\n    <tr>\n      <th>1994-03-01</th>\n      <td>0.090909</td>\n      <td>0.090909</td>\n      <td>0.090909</td>\n      <td>0.090909</td>\n      <td>0.090909</td>\n      <td>0.090909</td>\n      <td>0.090909</td>\n      <td>0.090909</td>\n      <td>0.090909</td>\n      <td>0.090909</td>\n      <td>0.090909</td>\n    </tr>\n    <tr>\n      <th>1994-04-01</th>\n      <td>0.090909</td>\n      <td>0.090909</td>\n      <td>0.090909</td>\n      <td>0.090909</td>\n      <td>0.090909</td>\n      <td>0.090909</td>\n      <td>0.090909</td>\n      <td>0.090909</td>\n      <td>0.090909</td>\n      <td>0.090909</td>\n      <td>0.090909</td>\n    </tr>\n    <tr>\n      <th>1994-05-01</th>\n      <td>0.090909</td>\n      <td>0.090909</td>\n      <td>0.090909</td>\n      <td>0.090909</td>\n      <td>0.090909</td>\n      <td>0.090909</td>\n      <td>0.090909</td>\n      <td>0.090909</td>\n      <td>0.090909</td>\n      <td>0.090909</td>\n      <td>0.090909</td>\n    </tr>\n  </tbody>\n</table>\n</div>"
     },
     "metadata": {},
     "output_type": "display_data"
    }
   ],
   "source": [
    "display(ew_weights_df.head())"
   ],
   "metadata": {
    "collapsed": false,
    "ExecuteTime": {
     "end_time": "2024-07-05T17:15:38.410864Z",
     "start_time": "2024-07-05T17:15:38.396893Z"
    }
   },
   "id": "1e0ae9ef6d1b46d6",
   "execution_count": 12
  },
  {
   "cell_type": "code",
   "outputs": [],
   "source": [
    "# Save\n",
    "ew_weights_df.to_csv('data/weights.csv')"
   ],
   "metadata": {
    "collapsed": false,
    "ExecuteTime": {
     "end_time": "2024-07-05T17:15:38.442Z",
     "start_time": "2024-07-05T17:15:38.413055Z"
    }
   },
   "id": "e8a94e5e9712b2d7",
   "execution_count": 13
  },
  {
   "cell_type": "markdown",
   "source": [
    "## 2) Min variance"
   ],
   "metadata": {
    "collapsed": false
   },
   "id": "64c2e36a056abf31"
  },
  {
   "cell_type": "code",
   "outputs": [],
   "source": [
    "# Create empty DataFrame\n",
    "matrix = np.empty((number_of_action_days, n_stocks), dtype=float)\n",
    "min_var_weights_df = pd.DataFrame(matrix, index=action_days, columns=adj_close_returns.columns)\n",
    "\n",
    "for action_day in action_days:\n",
    "    # 1 select correct observation period\n",
    "    start = get_period_for_variance_computation_from_action_date(action_day)\n",
    "    end = action_day - datetime.timedelta(days=1)\n",
    "    ret: pd.DataFrame = adj_close_returns.loc[start: end]\n",
    "    # 2 Compute covariance matrix\n",
    "    covariance_matrix = ret.cov()\n",
    "    # 3 Compute min-variance weights\n",
    "    weights = utils.compute_min_variance_weights(covariance_matrix)\n",
    "    min_var_weights_df.loc[action_day] = weights"
   ],
   "metadata": {
    "collapsed": false,
    "ExecuteTime": {
     "end_time": "2024-07-05T17:15:40.726515Z",
     "start_time": "2024-07-05T17:15:38.444188Z"
    }
   },
   "id": "756dbdcac67dac93",
   "execution_count": 14
  },
  {
   "cell_type": "code",
   "outputs": [
    {
     "data": {
      "text/plain": "Ticker          AAPL       DIS        GE            HD  JPM       LLY  \\\n1994-01-01  0.012816  0.051956  0.036284  7.471795e-19  0.0  0.055347   \n1994-02-01  0.014048  0.051255  0.037082  5.385091e-19  0.0  0.055578   \n1994-03-01  0.014825  0.053463  0.035986  5.500090e-19  0.0  0.057496   \n1994-04-01  0.013061  0.052952  0.034352  4.610879e-19  0.0  0.060137   \n1994-05-01  0.012852  0.052816  0.042258  3.726900e-19  0.0  0.061802   \n\nTicker           NEE       SHW           WMT        WY       XOM  \n1994-01-01  0.545525  0.083810  1.360581e-18  0.001241  0.213021  \n1994-02-01  0.532079  0.085135  1.218432e-18  0.003972  0.220851  \n1994-03-01  0.522141  0.086661  1.300479e-18  0.002571  0.226857  \n1994-04-01  0.517565  0.087169  1.167919e-18  0.003191  0.231573  \n1994-05-01  0.504813  0.087327  1.034773e-18  0.001894  0.236239  ",
      "text/html": "<div>\n<style scoped>\n    .dataframe tbody tr th:only-of-type {\n        vertical-align: middle;\n    }\n\n    .dataframe tbody tr th {\n        vertical-align: top;\n    }\n\n    .dataframe thead th {\n        text-align: right;\n    }\n</style>\n<table border=\"1\" class=\"dataframe\">\n  <thead>\n    <tr style=\"text-align: right;\">\n      <th>Ticker</th>\n      <th>AAPL</th>\n      <th>DIS</th>\n      <th>GE</th>\n      <th>HD</th>\n      <th>JPM</th>\n      <th>LLY</th>\n      <th>NEE</th>\n      <th>SHW</th>\n      <th>WMT</th>\n      <th>WY</th>\n      <th>XOM</th>\n    </tr>\n  </thead>\n  <tbody>\n    <tr>\n      <th>1994-01-01</th>\n      <td>0.012816</td>\n      <td>0.051956</td>\n      <td>0.036284</td>\n      <td>7.471795e-19</td>\n      <td>0.0</td>\n      <td>0.055347</td>\n      <td>0.545525</td>\n      <td>0.083810</td>\n      <td>1.360581e-18</td>\n      <td>0.001241</td>\n      <td>0.213021</td>\n    </tr>\n    <tr>\n      <th>1994-02-01</th>\n      <td>0.014048</td>\n      <td>0.051255</td>\n      <td>0.037082</td>\n      <td>5.385091e-19</td>\n      <td>0.0</td>\n      <td>0.055578</td>\n      <td>0.532079</td>\n      <td>0.085135</td>\n      <td>1.218432e-18</td>\n      <td>0.003972</td>\n      <td>0.220851</td>\n    </tr>\n    <tr>\n      <th>1994-03-01</th>\n      <td>0.014825</td>\n      <td>0.053463</td>\n      <td>0.035986</td>\n      <td>5.500090e-19</td>\n      <td>0.0</td>\n      <td>0.057496</td>\n      <td>0.522141</td>\n      <td>0.086661</td>\n      <td>1.300479e-18</td>\n      <td>0.002571</td>\n      <td>0.226857</td>\n    </tr>\n    <tr>\n      <th>1994-04-01</th>\n      <td>0.013061</td>\n      <td>0.052952</td>\n      <td>0.034352</td>\n      <td>4.610879e-19</td>\n      <td>0.0</td>\n      <td>0.060137</td>\n      <td>0.517565</td>\n      <td>0.087169</td>\n      <td>1.167919e-18</td>\n      <td>0.003191</td>\n      <td>0.231573</td>\n    </tr>\n    <tr>\n      <th>1994-05-01</th>\n      <td>0.012852</td>\n      <td>0.052816</td>\n      <td>0.042258</td>\n      <td>3.726900e-19</td>\n      <td>0.0</td>\n      <td>0.061802</td>\n      <td>0.504813</td>\n      <td>0.087327</td>\n      <td>1.034773e-18</td>\n      <td>0.001894</td>\n      <td>0.236239</td>\n    </tr>\n  </tbody>\n</table>\n</div>"
     },
     "metadata": {},
     "output_type": "display_data"
    }
   ],
   "source": [
    "display(min_var_weights_df.head())"
   ],
   "metadata": {
    "collapsed": false,
    "ExecuteTime": {
     "end_time": "2024-07-05T17:15:40.742093Z",
     "start_time": "2024-07-05T17:15:40.727624Z"
    }
   },
   "id": "3406b806b17c6e9c",
   "execution_count": 15
  },
  {
   "cell_type": "code",
   "outputs": [],
   "source": [
    "# Save\n",
    "min_var_weights_df.to_csv('data/min_variance_weights.csv')"
   ],
   "metadata": {
    "collapsed": false,
    "ExecuteTime": {
     "end_time": "2024-07-05T17:15:40.773485Z",
     "start_time": "2024-07-05T17:15:40.743236Z"
    }
   },
   "id": "ee1fa0e5458e330",
   "execution_count": 16
  }
 ],
 "metadata": {
  "kernelspec": {
   "display_name": "Python 3",
   "language": "python",
   "name": "python3"
  },
  "language_info": {
   "codemirror_mode": {
    "name": "ipython",
    "version": 2
   },
   "file_extension": ".py",
   "mimetype": "text/x-python",
   "name": "python",
   "nbconvert_exporter": "python",
   "pygments_lexer": "ipython2",
   "version": "2.7.6"
  }
 },
 "nbformat": 4,
 "nbformat_minor": 5
}
