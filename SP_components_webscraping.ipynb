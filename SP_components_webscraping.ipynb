{
 "cells": [
  {
   "cell_type": "markdown",
   "source": [
    "# Load and save data"
   ],
   "metadata": {
    "collapsed": false
   },
   "id": "d2afd78a862c0556"
  },
  {
   "cell_type": "code",
   "execution_count": 1,
   "id": "initial_id",
   "metadata": {
    "collapsed": true,
    "ExecuteTime": {
     "end_time": "2024-07-04T14:13:47.262912Z",
     "start_time": "2024-07-04T14:13:47.249258Z"
    }
   },
   "outputs": [],
   "source": [
    "import datetime\n",
    "import pandas as pd\n",
    "#import seaborn as sns\n",
    "#import matplotlib.pyplot as plt\n",
    "#import numpy as np\n",
    "import calendar"
   ]
  },
  {
   "cell_type": "code",
   "outputs": [],
   "source": [
    "# Load data\n",
    "url = 'https://en.wikipedia.org/wiki/List_of_S%26P_500_companies'\n",
    "data = pd.read_html(url)\n",
    "\n",
    "# Split data\n",
    "sp500 = data[0]\n",
    "changes = data[1]"
   ],
   "metadata": {
    "collapsed": false,
    "ExecuteTime": {
     "end_time": "2024-07-04T14:13:47.821988Z",
     "start_time": "2024-07-04T14:13:47.265234Z"
    }
   },
   "id": "cbbe200b2ce11117",
   "execution_count": 2
  },
  {
   "cell_type": "code",
   "outputs": [
    {
     "data": {
      "text/plain": "  Symbol     Security             GICS Sector               GICS Sub-Industry  \\\n0    MMM           3M             Industrials        Industrial Conglomerates   \n1    AOS  A. O. Smith             Industrials               Building Products   \n2    ABT       Abbott             Health Care           Health Care Equipment   \n3   ABBV       AbbVie             Health Care                   Biotechnology   \n4    ACN    Accenture  Information Technology  IT Consulting & Other Services   \n\n   Date added  \n0  1957-03-04  \n1  2017-07-26  \n2  1957-03-04  \n3  2012-12-31  \n4  2011-07-06  ",
      "text/html": "<div>\n<style scoped>\n    .dataframe tbody tr th:only-of-type {\n        vertical-align: middle;\n    }\n\n    .dataframe tbody tr th {\n        vertical-align: top;\n    }\n\n    .dataframe thead th {\n        text-align: right;\n    }\n</style>\n<table border=\"1\" class=\"dataframe\">\n  <thead>\n    <tr style=\"text-align: right;\">\n      <th></th>\n      <th>Symbol</th>\n      <th>Security</th>\n      <th>GICS Sector</th>\n      <th>GICS Sub-Industry</th>\n      <th>Date added</th>\n    </tr>\n  </thead>\n  <tbody>\n    <tr>\n      <th>0</th>\n      <td>MMM</td>\n      <td>3M</td>\n      <td>Industrials</td>\n      <td>Industrial Conglomerates</td>\n      <td>1957-03-04</td>\n    </tr>\n    <tr>\n      <th>1</th>\n      <td>AOS</td>\n      <td>A. O. Smith</td>\n      <td>Industrials</td>\n      <td>Building Products</td>\n      <td>2017-07-26</td>\n    </tr>\n    <tr>\n      <th>2</th>\n      <td>ABT</td>\n      <td>Abbott</td>\n      <td>Health Care</td>\n      <td>Health Care Equipment</td>\n      <td>1957-03-04</td>\n    </tr>\n    <tr>\n      <th>3</th>\n      <td>ABBV</td>\n      <td>AbbVie</td>\n      <td>Health Care</td>\n      <td>Biotechnology</td>\n      <td>2012-12-31</td>\n    </tr>\n    <tr>\n      <th>4</th>\n      <td>ACN</td>\n      <td>Accenture</td>\n      <td>Information Technology</td>\n      <td>IT Consulting &amp; Other Services</td>\n      <td>2011-07-06</td>\n    </tr>\n  </tbody>\n</table>\n</div>"
     },
     "metadata": {},
     "output_type": "display_data"
    },
    {
     "name": "stdout",
     "output_type": "stream",
     "text": [
      "Number of rows: 503\n",
      "Number of columns: 5\n"
     ]
    }
   ],
   "source": [
    "# Work on sp500 DataFrame\n",
    "columns = ['Symbol',\n",
    "           'Security',\n",
    "           'GICS Sector',\n",
    "           'GICS Sub-Industry',\n",
    "           'Date added']\n",
    "sp500 = sp500[columns]\n",
    "display(sp500.head())\n",
    "print(f'Number of rows: {sp500.shape[0]}\\nNumber of columns: {sp500.shape[1]}')"
   ],
   "metadata": {
    "collapsed": false,
    "ExecuteTime": {
     "end_time": "2024-07-04T14:13:47.852832Z",
     "start_time": "2024-07-04T14:13:47.824248Z"
    }
   },
   "id": "82a4a61f3f27441d",
   "execution_count": 3
  },
  {
   "cell_type": "code",
   "outputs": [
    {
     "name": "stdout",
     "output_type": "stream",
     "text": [
      "0 null values in column \"Symbol\"\n",
      "0 null values in column \"Security\"\n",
      "0 null values in column \"GICS Sector\"\n",
      "0 null values in column \"GICS Sub-Industry\"\n",
      "0 null values in column \"Date added\"\n"
     ]
    }
   ],
   "source": [
    "# Check null values\n",
    "for col in columns:\n",
    "    count = sp500[col].isnull().sum()\n",
    "    print(f'{count} null values in column \"{col}\"')    "
   ],
   "metadata": {
    "collapsed": false,
    "ExecuteTime": {
     "end_time": "2024-07-04T14:13:47.868165Z",
     "start_time": "2024-07-04T14:13:47.855040Z"
    }
   },
   "id": "41655e846d77a025",
   "execution_count": 4
  },
  {
   "cell_type": "code",
   "outputs": [
    {
     "name": "stdout",
     "output_type": "stream",
     "text": [
      "Number of incorrect dates: 0\n"
     ]
    }
   ],
   "source": [
    "# Check correct format of date column\n",
    "n_incorrect = sp500.shape[0] - (sp500['Date added'].str.fullmatch('^\\d{4}-\\d{2}-\\d{2}')).sum().item()\n",
    "print(f'Number of incorrect dates: {n_incorrect}')"
   ],
   "metadata": {
    "collapsed": false,
    "ExecuteTime": {
     "end_time": "2024-07-04T14:13:47.883432Z",
     "start_time": "2024-07-04T14:13:47.869198Z"
    }
   },
   "id": "126e37948dd291dc",
   "execution_count": 5
  },
  {
   "cell_type": "code",
   "outputs": [],
   "source": [
    "# Save dataset\n",
    "today = datetime.date.today()\n",
    "year = today.year\n",
    "month = str(today.month).zfill(2)\n",
    "day = str(today.day).zfill(2)\n",
    "filename = f'data/sp500_companies_{year}_{month}_{day}.xlsx'\n",
    "sp500.to_excel(filename, index=False)"
   ],
   "metadata": {
    "collapsed": false,
    "ExecuteTime": {
     "end_time": "2024-07-04T14:13:48.118492Z",
     "start_time": "2024-07-04T14:13:47.884886Z"
    }
   },
   "id": "455422fe17b90c96",
   "execution_count": 6
  },
  {
   "cell_type": "code",
   "outputs": [
    {
     "data": {
      "text/plain": "            Date  Added              Removed                             \\\n            Date Ticker     Security  Ticker                   Security   \n0  June 24, 2024    KKR          KKR     RHI                Robert Half   \n1  June 24, 2024   CRWD  CrowdStrike     CMA                   Comerica   \n2  June 24, 2024   GDDY      GoDaddy    ILMN             Illumina, Inc.   \n3    May 8, 2024    VST       Vistra     PXD  Pioneer Natural Resources   \n4  April 3, 2024    NaN          NaN    XRAY            Dentsply Sirona   \n\n                                              Reason  \n                                              Reason  \n0                   Market capitalization change.[4]  \n1                   Market capitalization change.[4]  \n2                   Market capitalization change.[4]  \n3  S&P 500 and S&P 100 constituent ExxonMobil acq...  \n4                   Market capitalization change.[6]  ",
      "text/html": "<div>\n<style scoped>\n    .dataframe tbody tr th:only-of-type {\n        vertical-align: middle;\n    }\n\n    .dataframe tbody tr th {\n        vertical-align: top;\n    }\n\n    .dataframe thead tr th {\n        text-align: left;\n    }\n</style>\n<table border=\"1\" class=\"dataframe\">\n  <thead>\n    <tr>\n      <th></th>\n      <th>Date</th>\n      <th colspan=\"2\" halign=\"left\">Added</th>\n      <th colspan=\"2\" halign=\"left\">Removed</th>\n      <th>Reason</th>\n    </tr>\n    <tr>\n      <th></th>\n      <th>Date</th>\n      <th>Ticker</th>\n      <th>Security</th>\n      <th>Ticker</th>\n      <th>Security</th>\n      <th>Reason</th>\n    </tr>\n  </thead>\n  <tbody>\n    <tr>\n      <th>0</th>\n      <td>June 24, 2024</td>\n      <td>KKR</td>\n      <td>KKR</td>\n      <td>RHI</td>\n      <td>Robert Half</td>\n      <td>Market capitalization change.[4]</td>\n    </tr>\n    <tr>\n      <th>1</th>\n      <td>June 24, 2024</td>\n      <td>CRWD</td>\n      <td>CrowdStrike</td>\n      <td>CMA</td>\n      <td>Comerica</td>\n      <td>Market capitalization change.[4]</td>\n    </tr>\n    <tr>\n      <th>2</th>\n      <td>June 24, 2024</td>\n      <td>GDDY</td>\n      <td>GoDaddy</td>\n      <td>ILMN</td>\n      <td>Illumina, Inc.</td>\n      <td>Market capitalization change.[4]</td>\n    </tr>\n    <tr>\n      <th>3</th>\n      <td>May 8, 2024</td>\n      <td>VST</td>\n      <td>Vistra</td>\n      <td>PXD</td>\n      <td>Pioneer Natural Resources</td>\n      <td>S&amp;P 500 and S&amp;P 100 constituent ExxonMobil acq...</td>\n    </tr>\n    <tr>\n      <th>4</th>\n      <td>April 3, 2024</td>\n      <td>NaN</td>\n      <td>NaN</td>\n      <td>XRAY</td>\n      <td>Dentsply Sirona</td>\n      <td>Market capitalization change.[6]</td>\n    </tr>\n  </tbody>\n</table>\n</div>"
     },
     "metadata": {},
     "output_type": "display_data"
    },
    {
     "name": "stdout",
     "output_type": "stream",
     "text": [
      "Number of rows: 348\n",
      "Number of columns: 6\n"
     ]
    }
   ],
   "source": [
    "# Work on changes DataFrame\n",
    "display(changes.head())\n",
    "print(f'Number of rows: {changes.shape[0]}\\nNumber of columns: {changes.shape[1]}')"
   ],
   "metadata": {
    "collapsed": false,
    "ExecuteTime": {
     "end_time": "2024-07-04T14:13:48.133912Z",
     "start_time": "2024-07-04T14:13:48.119486Z"
    }
   },
   "id": "f06da3a2181102b",
   "execution_count": 7
  },
  {
   "cell_type": "code",
   "outputs": [],
   "source": [
    "# Modify first column\n",
    "month_dict = dict((v, k) for k, v in enumerate(calendar.month_name))\n",
    "def convert_date(date: list):\n",
    "    assert len(date) == 3\n",
    "    month, day, year = date[0], date[1], date[2]\n",
    "    month = str(month_dict[month.lower().title()]).zfill(2)\n",
    "    day = str(day).zfill(2)\n",
    "    result = f'{year}-{month}-{day}'\n",
    "    assert len(result) == 10\n",
    "    return result"
   ],
   "metadata": {
    "collapsed": false,
    "ExecuteTime": {
     "end_time": "2024-07-04T14:13:48.150202Z",
     "start_time": "2024-07-04T14:13:48.136095Z"
    }
   },
   "id": "a0aa6664401bee3a",
   "execution_count": 8
  },
  {
   "cell_type": "code",
   "outputs": [],
   "source": [
    "date = changes[('Date', 'Date')]\n",
    "date = date.str.replace(',', '').str.split()\n",
    "for i in range(len(date)):\n",
    "    date[i] = convert_date(date[i])"
   ],
   "metadata": {
    "collapsed": false,
    "ExecuteTime": {
     "end_time": "2024-07-04T14:13:48.165521Z",
     "start_time": "2024-07-04T14:13:48.152405Z"
    }
   },
   "id": "cd66a1bff32b45ac",
   "execution_count": 9
  },
  {
   "cell_type": "code",
   "outputs": [],
   "source": [
    "# Create new dataframe\n",
    "changes_new = pd.DataFrame({\n",
    "    'Date': date,\n",
    "    'Added Ticker': changes[('Added', 'Ticker')],\n",
    "    'Added Security': changes[('Added', 'Security')],\n",
    "    'Removed Ticker': changes[('Removed', 'Ticker')],\n",
    "    'Removed Security': changes[('Removed', 'Security')],\n",
    "})"
   ],
   "metadata": {
    "collapsed": false,
    "ExecuteTime": {
     "end_time": "2024-07-04T14:13:48.181124Z",
     "start_time": "2024-07-04T14:13:48.167680Z"
    }
   },
   "id": "92342f80b6f8336a",
   "execution_count": 10
  },
  {
   "cell_type": "code",
   "outputs": [
    {
     "data": {
      "text/plain": "           Date Added Ticker                 Added Security Removed Ticker  \\\n0    2024-06-24          KKR                            KKR            RHI   \n1    2024-06-24         CRWD                    CrowdStrike            CMA   \n2    2024-06-24         GDDY                        GoDaddy           ILMN   \n3    2024-05-08          VST                         Vistra            PXD   \n4    2024-04-03          NaN                            NaN           XRAY   \n..          ...          ...                            ...            ...   \n343  1999-06-09          WLP                      Wellpoint            HPH   \n344  1998-12-11          FSR                        Firstar            LDW   \n345  1998-12-11          CCL                 Carnival Corp.            GRN   \n346  1998-12-11         CPWR                      Compuware            SUN   \n347  1997-06-17          CCI  Countrywide Credit Industries            USL   \n\n              Removed Security  \n0                  Robert Half  \n1                     Comerica  \n2               Illumina, Inc.  \n3    Pioneer Natural Resources  \n4              Dentsply Sirona  \n..                         ...  \n343   Harnischfeger Industries  \n344                      Amoco  \n345                 General Re  \n346                 SunAmerica  \n347                     USLife  \n\n[348 rows x 5 columns]",
      "text/html": "<div>\n<style scoped>\n    .dataframe tbody tr th:only-of-type {\n        vertical-align: middle;\n    }\n\n    .dataframe tbody tr th {\n        vertical-align: top;\n    }\n\n    .dataframe thead th {\n        text-align: right;\n    }\n</style>\n<table border=\"1\" class=\"dataframe\">\n  <thead>\n    <tr style=\"text-align: right;\">\n      <th></th>\n      <th>Date</th>\n      <th>Added Ticker</th>\n      <th>Added Security</th>\n      <th>Removed Ticker</th>\n      <th>Removed Security</th>\n    </tr>\n  </thead>\n  <tbody>\n    <tr>\n      <th>0</th>\n      <td>2024-06-24</td>\n      <td>KKR</td>\n      <td>KKR</td>\n      <td>RHI</td>\n      <td>Robert Half</td>\n    </tr>\n    <tr>\n      <th>1</th>\n      <td>2024-06-24</td>\n      <td>CRWD</td>\n      <td>CrowdStrike</td>\n      <td>CMA</td>\n      <td>Comerica</td>\n    </tr>\n    <tr>\n      <th>2</th>\n      <td>2024-06-24</td>\n      <td>GDDY</td>\n      <td>GoDaddy</td>\n      <td>ILMN</td>\n      <td>Illumina, Inc.</td>\n    </tr>\n    <tr>\n      <th>3</th>\n      <td>2024-05-08</td>\n      <td>VST</td>\n      <td>Vistra</td>\n      <td>PXD</td>\n      <td>Pioneer Natural Resources</td>\n    </tr>\n    <tr>\n      <th>4</th>\n      <td>2024-04-03</td>\n      <td>NaN</td>\n      <td>NaN</td>\n      <td>XRAY</td>\n      <td>Dentsply Sirona</td>\n    </tr>\n    <tr>\n      <th>...</th>\n      <td>...</td>\n      <td>...</td>\n      <td>...</td>\n      <td>...</td>\n      <td>...</td>\n    </tr>\n    <tr>\n      <th>343</th>\n      <td>1999-06-09</td>\n      <td>WLP</td>\n      <td>Wellpoint</td>\n      <td>HPH</td>\n      <td>Harnischfeger Industries</td>\n    </tr>\n    <tr>\n      <th>344</th>\n      <td>1998-12-11</td>\n      <td>FSR</td>\n      <td>Firstar</td>\n      <td>LDW</td>\n      <td>Amoco</td>\n    </tr>\n    <tr>\n      <th>345</th>\n      <td>1998-12-11</td>\n      <td>CCL</td>\n      <td>Carnival Corp.</td>\n      <td>GRN</td>\n      <td>General Re</td>\n    </tr>\n    <tr>\n      <th>346</th>\n      <td>1998-12-11</td>\n      <td>CPWR</td>\n      <td>Compuware</td>\n      <td>SUN</td>\n      <td>SunAmerica</td>\n    </tr>\n    <tr>\n      <th>347</th>\n      <td>1997-06-17</td>\n      <td>CCI</td>\n      <td>Countrywide Credit Industries</td>\n      <td>USL</td>\n      <td>USLife</td>\n    </tr>\n  </tbody>\n</table>\n<p>348 rows × 5 columns</p>\n</div>"
     },
     "metadata": {},
     "output_type": "display_data"
    }
   ],
   "source": [
    "display(changes_new)"
   ],
   "metadata": {
    "collapsed": false,
    "ExecuteTime": {
     "end_time": "2024-07-04T14:13:48.212644Z",
     "start_time": "2024-07-04T14:13:48.183123Z"
    }
   },
   "id": "ba533a58a60f28f0",
   "execution_count": 11
  },
  {
   "cell_type": "code",
   "outputs": [],
   "source": [
    "# Save dataset\n",
    "today = datetime.date.today()\n",
    "year = today.year\n",
    "month = str(today.month).zfill(2)\n",
    "day = str(today.day).zfill(2)\n",
    "filename = f'data/sp500_variations_{year}_{month}_{day}.xlsx'\n",
    "changes_new.to_excel(filename, index=False)"
   ],
   "metadata": {
    "collapsed": false,
    "ExecuteTime": {
     "end_time": "2024-07-04T14:13:48.276717Z",
     "start_time": "2024-07-04T14:13:48.214642Z"
    }
   },
   "id": "23f60a6c26fbbdd4",
   "execution_count": 12
  }
 ],
 "metadata": {
  "kernelspec": {
   "display_name": "Python 3",
   "language": "python",
   "name": "python3"
  },
  "language_info": {
   "codemirror_mode": {
    "name": "ipython",
    "version": 2
   },
   "file_extension": ".py",
   "mimetype": "text/x-python",
   "name": "python",
   "nbconvert_exporter": "python",
   "pygments_lexer": "ipython2",
   "version": "2.7.6"
  }
 },
 "nbformat": 4,
 "nbformat_minor": 5
}
