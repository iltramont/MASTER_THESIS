{
 "cells": [
  {
   "cell_type": "code",
   "execution_count": 1,
   "id": "initial_id",
   "metadata": {
    "collapsed": true,
    "ExecuteTime": {
     "end_time": "2024-07-07T19:09:50.011348Z",
     "start_time": "2024-07-07T19:09:48.601092Z"
    }
   },
   "outputs": [],
   "source": [
    "import utils\n",
    "import pandas as pd\n",
    "import numpy as np\n",
    "import datetime\n",
    "import yfinance as yf"
   ]
  },
  {
   "cell_type": "code",
   "outputs": [],
   "source": [
    "STARTING_DAY = datetime.datetime(1989, 1, 1)\n",
    "FIRST_ACTION_DAY = datetime.datetime(1994, 1, 1)"
   ],
   "metadata": {
    "collapsed": false,
    "ExecuteTime": {
     "end_time": "2024-07-07T19:09:50.027318Z",
     "start_time": "2024-07-07T19:09:50.013316Z"
    }
   },
   "id": "d55877702386bb14",
   "execution_count": 2
  },
  {
   "cell_type": "code",
   "outputs": [],
   "source": [
    "weights = pd.read_csv('data/ew_weights.csv', index_col=0)\n",
    "weights.index = pd.to_datetime(weights.index)"
   ],
   "metadata": {
    "collapsed": false,
    "ExecuteTime": {
     "end_time": "2024-07-07T19:09:50.043236Z",
     "start_time": "2024-07-07T19:09:50.028276Z"
    }
   },
   "id": "15fd501fd51645d6",
   "execution_count": 3
  },
  {
   "cell_type": "code",
   "outputs": [
    {
     "name": "stderr",
     "output_type": "stream",
     "text": [
      "[*********************100%%**********************]  11 of 11 completed\n"
     ]
    }
   ],
   "source": [
    "selected_stocks = pd.read_excel('data/selected_stocks.xlsx')\n",
    "\n",
    "# Download prices\n",
    "symbols = selected_stocks['Symbol'].tolist()\n",
    "prices = yf.download(symbols)\n",
    "\n",
    "# Exclude data before STARTING DAY\n",
    "prices = prices.loc[STARTING_DAY:]\n",
    "\n",
    "# Separate variables\n",
    "adj_close_df = prices['Adj Close']\n",
    "close_df = prices['Close']\n",
    "open_df = prices['Open']\n",
    "\n",
    "adj_close_returns = utils.compute_returns(adj_close_df)\n",
    "close_returns = utils.compute_returns(close_df)\n",
    "open_returns = utils.compute_returns(open_df)"
   ],
   "metadata": {
    "collapsed": false,
    "ExecuteTime": {
     "end_time": "2024-07-07T19:09:52.731296Z",
     "start_time": "2024-07-07T19:09:50.045231Z"
    }
   },
   "id": "61f064d49e320131",
   "execution_count": 4
  },
  {
   "cell_type": "code",
   "outputs": [],
   "source": [
    "start = weights.index[0]"
   ],
   "metadata": {
    "collapsed": false,
    "ExecuteTime": {
     "end_time": "2024-07-07T19:09:52.746284Z",
     "start_time": "2024-07-07T19:09:52.733290Z"
    }
   },
   "id": "3a05a5800b857914",
   "execution_count": 5
  },
  {
   "cell_type": "code",
   "outputs": [],
   "source": [
    "w = weights.loc[start]"
   ],
   "metadata": {
    "collapsed": false,
    "ExecuteTime": {
     "end_time": "2024-07-07T19:09:52.762242Z",
     "start_time": "2024-07-07T19:09:52.748251Z"
    }
   },
   "id": "8c2e35f1cc0f51bf",
   "execution_count": 6
  },
  {
   "cell_type": "code",
   "outputs": [],
   "source": [
    "ret = adj_close_returns.loc[start:]"
   ],
   "metadata": {
    "collapsed": false,
    "ExecuteTime": {
     "end_time": "2024-07-07T19:09:52.778176Z",
     "start_time": "2024-07-07T19:09:52.763210Z"
    }
   },
   "id": "4a283059efa10ec6",
   "execution_count": 7
  },
  {
   "cell_type": "code",
   "outputs": [],
   "source": [
    "period_stocks_returns = ret.loc['1994-01']"
   ],
   "metadata": {
    "collapsed": false,
    "ExecuteTime": {
     "end_time": "2024-07-07T19:09:52.794152Z",
     "start_time": "2024-07-07T19:09:52.780165Z"
    }
   },
   "id": "1cee4f5db061dfe9",
   "execution_count": 8
  },
  {
   "cell_type": "code",
   "outputs": [
    {
     "data": {
      "text/plain": "Ticker          AAPL       DIS        GE        HD       JPM       LLY  \\\nDate                                                                     \n1994-01-03  0.021366  0.011730 -0.008343 -0.018987  0.006230  0.000000   \n1994-01-04  0.054394  0.036273 -0.003606  0.012904  0.003096 -0.004210   \n1994-01-05  0.071428  0.005602 -0.006031  0.019108 -0.009259 -0.008457   \n1994-01-06 -0.029628  0.011142  0.008495 -0.046875 -0.015576 -0.008529   \n1994-01-07  0.011449  0.024793  0.004813  0.013115  0.028481  0.002150   \n1994-01-10  0.015094  0.026882  0.004791  0.012945  0.015384  0.012876   \n1994-01-11 -0.052045 -0.013089  0.007152 -0.012779 -0.006060 -0.006356   \n1994-01-12 -0.043138 -0.010610  0.003550  0.019418  0.003049 -0.004265   \n1994-01-13  0.004102 -0.013405 -0.007075 -0.038095  0.009118 -0.002141   \n1994-01-14  0.012244  0.035326  0.014251 -0.003300  0.000000  0.012876   \n1994-01-17 -0.020164 -0.020998  0.003513  0.000000  0.000000  0.014830   \n1994-01-18 -0.032920  0.005362  0.011669 -0.019868 -0.024097  0.027140   \n1994-01-19 -0.004255  0.005334  0.003460  0.023649 -0.046296 -0.026423   \n1994-01-20  0.021366  0.005305 -0.002299 -0.016502 -0.016181  0.002087   \n1994-01-21  0.117155  0.002639 -0.004608  0.003355 -0.009868  0.002084   \n1994-01-24  0.048689 -0.013158 -0.002315 -0.020066  0.003323 -0.016632   \n1994-01-25 -0.032144  0.002667 -0.006961  0.017065 -0.013246  0.000000   \n1994-01-26 -0.011070  0.002659 -0.004673  0.013423  0.016779  0.010571   \n1994-01-27  0.018659 -0.010610  0.016432  0.019867  0.016501 -0.008368   \n1994-01-28 -0.003666  0.010724 -0.003464  0.022728  0.016235  0.008439   \n1994-01-31 -0.036762  0.002652 -0.001159 -0.009524  0.009585  0.002092   \n\nTicker           NEE       SHW       WMT        WY       XOM  \nDate                                                          \n1994-01-03 -0.012779 -0.010490  0.020000 -0.014006  0.009900  \n1994-01-04 -0.006473 -0.014135  0.009804  0.042613  0.007844  \n1994-01-05 -0.013029 -0.028673 -0.009709  0.019074  0.005836  \n1994-01-06 -0.019802 -0.007381 -0.034314  0.005347 -0.005803  \n1994-01-07  0.010101  0.007435 -0.010153 -0.005319 -0.007783  \n1994-01-10  0.000000  0.000000  0.020513  0.032086  0.013726  \n1994-01-11  0.000000  0.022140  0.025126 -0.010363 -0.001934  \n1994-01-12 -0.010000 -0.021660  0.000000 -0.007853  0.005814  \n1994-01-13 -0.016835  0.003690  0.000000  0.013193  0.011561  \n1994-01-14  0.013699  0.000000  0.004902 -0.010417 -0.013333  \n1994-01-17 -0.013513  0.011029 -0.014634  0.002632  0.003861  \n1994-01-18  0.003424 -0.003636 -0.009901  0.023622 -0.001923  \n1994-01-19 -0.006826  0.000000  0.015000  0.020513  0.009634  \n1994-01-20 -0.003436  0.018248  0.000000 -0.010050  0.013359  \n1994-01-21  0.000000  0.003585 -0.004926 -0.010153 -0.003767  \n1994-01-24 -0.017241 -0.010715 -0.014852  0.016512  0.000000  \n1994-01-25  0.000000 -0.014440 -0.005025 -0.007615  0.001891  \n1994-01-26  0.017544 -0.025641  0.025253 -0.012787 -0.001887  \n1994-01-27  0.020690  0.015037  0.024630 -0.002591 -0.007561  \n1994-01-28 -0.006757  0.018518  0.019230  0.005196  0.001906  \n1994-01-31  0.003401 -0.007272  0.000000  0.010335  0.011406  ",
      "text/html": "<div>\n<style scoped>\n    .dataframe tbody tr th:only-of-type {\n        vertical-align: middle;\n    }\n\n    .dataframe tbody tr th {\n        vertical-align: top;\n    }\n\n    .dataframe thead th {\n        text-align: right;\n    }\n</style>\n<table border=\"1\" class=\"dataframe\">\n  <thead>\n    <tr style=\"text-align: right;\">\n      <th>Ticker</th>\n      <th>AAPL</th>\n      <th>DIS</th>\n      <th>GE</th>\n      <th>HD</th>\n      <th>JPM</th>\n      <th>LLY</th>\n      <th>NEE</th>\n      <th>SHW</th>\n      <th>WMT</th>\n      <th>WY</th>\n      <th>XOM</th>\n    </tr>\n    <tr>\n      <th>Date</th>\n      <th></th>\n      <th></th>\n      <th></th>\n      <th></th>\n      <th></th>\n      <th></th>\n      <th></th>\n      <th></th>\n      <th></th>\n      <th></th>\n      <th></th>\n    </tr>\n  </thead>\n  <tbody>\n    <tr>\n      <th>1994-01-03</th>\n      <td>0.021366</td>\n      <td>0.011730</td>\n      <td>-0.008343</td>\n      <td>-0.018987</td>\n      <td>0.006230</td>\n      <td>0.000000</td>\n      <td>-0.012779</td>\n      <td>-0.010490</td>\n      <td>0.020000</td>\n      <td>-0.014006</td>\n      <td>0.009900</td>\n    </tr>\n    <tr>\n      <th>1994-01-04</th>\n      <td>0.054394</td>\n      <td>0.036273</td>\n      <td>-0.003606</td>\n      <td>0.012904</td>\n      <td>0.003096</td>\n      <td>-0.004210</td>\n      <td>-0.006473</td>\n      <td>-0.014135</td>\n      <td>0.009804</td>\n      <td>0.042613</td>\n      <td>0.007844</td>\n    </tr>\n    <tr>\n      <th>1994-01-05</th>\n      <td>0.071428</td>\n      <td>0.005602</td>\n      <td>-0.006031</td>\n      <td>0.019108</td>\n      <td>-0.009259</td>\n      <td>-0.008457</td>\n      <td>-0.013029</td>\n      <td>-0.028673</td>\n      <td>-0.009709</td>\n      <td>0.019074</td>\n      <td>0.005836</td>\n    </tr>\n    <tr>\n      <th>1994-01-06</th>\n      <td>-0.029628</td>\n      <td>0.011142</td>\n      <td>0.008495</td>\n      <td>-0.046875</td>\n      <td>-0.015576</td>\n      <td>-0.008529</td>\n      <td>-0.019802</td>\n      <td>-0.007381</td>\n      <td>-0.034314</td>\n      <td>0.005347</td>\n      <td>-0.005803</td>\n    </tr>\n    <tr>\n      <th>1994-01-07</th>\n      <td>0.011449</td>\n      <td>0.024793</td>\n      <td>0.004813</td>\n      <td>0.013115</td>\n      <td>0.028481</td>\n      <td>0.002150</td>\n      <td>0.010101</td>\n      <td>0.007435</td>\n      <td>-0.010153</td>\n      <td>-0.005319</td>\n      <td>-0.007783</td>\n    </tr>\n    <tr>\n      <th>1994-01-10</th>\n      <td>0.015094</td>\n      <td>0.026882</td>\n      <td>0.004791</td>\n      <td>0.012945</td>\n      <td>0.015384</td>\n      <td>0.012876</td>\n      <td>0.000000</td>\n      <td>0.000000</td>\n      <td>0.020513</td>\n      <td>0.032086</td>\n      <td>0.013726</td>\n    </tr>\n    <tr>\n      <th>1994-01-11</th>\n      <td>-0.052045</td>\n      <td>-0.013089</td>\n      <td>0.007152</td>\n      <td>-0.012779</td>\n      <td>-0.006060</td>\n      <td>-0.006356</td>\n      <td>0.000000</td>\n      <td>0.022140</td>\n      <td>0.025126</td>\n      <td>-0.010363</td>\n      <td>-0.001934</td>\n    </tr>\n    <tr>\n      <th>1994-01-12</th>\n      <td>-0.043138</td>\n      <td>-0.010610</td>\n      <td>0.003550</td>\n      <td>0.019418</td>\n      <td>0.003049</td>\n      <td>-0.004265</td>\n      <td>-0.010000</td>\n      <td>-0.021660</td>\n      <td>0.000000</td>\n      <td>-0.007853</td>\n      <td>0.005814</td>\n    </tr>\n    <tr>\n      <th>1994-01-13</th>\n      <td>0.004102</td>\n      <td>-0.013405</td>\n      <td>-0.007075</td>\n      <td>-0.038095</td>\n      <td>0.009118</td>\n      <td>-0.002141</td>\n      <td>-0.016835</td>\n      <td>0.003690</td>\n      <td>0.000000</td>\n      <td>0.013193</td>\n      <td>0.011561</td>\n    </tr>\n    <tr>\n      <th>1994-01-14</th>\n      <td>0.012244</td>\n      <td>0.035326</td>\n      <td>0.014251</td>\n      <td>-0.003300</td>\n      <td>0.000000</td>\n      <td>0.012876</td>\n      <td>0.013699</td>\n      <td>0.000000</td>\n      <td>0.004902</td>\n      <td>-0.010417</td>\n      <td>-0.013333</td>\n    </tr>\n    <tr>\n      <th>1994-01-17</th>\n      <td>-0.020164</td>\n      <td>-0.020998</td>\n      <td>0.003513</td>\n      <td>0.000000</td>\n      <td>0.000000</td>\n      <td>0.014830</td>\n      <td>-0.013513</td>\n      <td>0.011029</td>\n      <td>-0.014634</td>\n      <td>0.002632</td>\n      <td>0.003861</td>\n    </tr>\n    <tr>\n      <th>1994-01-18</th>\n      <td>-0.032920</td>\n      <td>0.005362</td>\n      <td>0.011669</td>\n      <td>-0.019868</td>\n      <td>-0.024097</td>\n      <td>0.027140</td>\n      <td>0.003424</td>\n      <td>-0.003636</td>\n      <td>-0.009901</td>\n      <td>0.023622</td>\n      <td>-0.001923</td>\n    </tr>\n    <tr>\n      <th>1994-01-19</th>\n      <td>-0.004255</td>\n      <td>0.005334</td>\n      <td>0.003460</td>\n      <td>0.023649</td>\n      <td>-0.046296</td>\n      <td>-0.026423</td>\n      <td>-0.006826</td>\n      <td>0.000000</td>\n      <td>0.015000</td>\n      <td>0.020513</td>\n      <td>0.009634</td>\n    </tr>\n    <tr>\n      <th>1994-01-20</th>\n      <td>0.021366</td>\n      <td>0.005305</td>\n      <td>-0.002299</td>\n      <td>-0.016502</td>\n      <td>-0.016181</td>\n      <td>0.002087</td>\n      <td>-0.003436</td>\n      <td>0.018248</td>\n      <td>0.000000</td>\n      <td>-0.010050</td>\n      <td>0.013359</td>\n    </tr>\n    <tr>\n      <th>1994-01-21</th>\n      <td>0.117155</td>\n      <td>0.002639</td>\n      <td>-0.004608</td>\n      <td>0.003355</td>\n      <td>-0.009868</td>\n      <td>0.002084</td>\n      <td>0.000000</td>\n      <td>0.003585</td>\n      <td>-0.004926</td>\n      <td>-0.010153</td>\n      <td>-0.003767</td>\n    </tr>\n    <tr>\n      <th>1994-01-24</th>\n      <td>0.048689</td>\n      <td>-0.013158</td>\n      <td>-0.002315</td>\n      <td>-0.020066</td>\n      <td>0.003323</td>\n      <td>-0.016632</td>\n      <td>-0.017241</td>\n      <td>-0.010715</td>\n      <td>-0.014852</td>\n      <td>0.016512</td>\n      <td>0.000000</td>\n    </tr>\n    <tr>\n      <th>1994-01-25</th>\n      <td>-0.032144</td>\n      <td>0.002667</td>\n      <td>-0.006961</td>\n      <td>0.017065</td>\n      <td>-0.013246</td>\n      <td>0.000000</td>\n      <td>0.000000</td>\n      <td>-0.014440</td>\n      <td>-0.005025</td>\n      <td>-0.007615</td>\n      <td>0.001891</td>\n    </tr>\n    <tr>\n      <th>1994-01-26</th>\n      <td>-0.011070</td>\n      <td>0.002659</td>\n      <td>-0.004673</td>\n      <td>0.013423</td>\n      <td>0.016779</td>\n      <td>0.010571</td>\n      <td>0.017544</td>\n      <td>-0.025641</td>\n      <td>0.025253</td>\n      <td>-0.012787</td>\n      <td>-0.001887</td>\n    </tr>\n    <tr>\n      <th>1994-01-27</th>\n      <td>0.018659</td>\n      <td>-0.010610</td>\n      <td>0.016432</td>\n      <td>0.019867</td>\n      <td>0.016501</td>\n      <td>-0.008368</td>\n      <td>0.020690</td>\n      <td>0.015037</td>\n      <td>0.024630</td>\n      <td>-0.002591</td>\n      <td>-0.007561</td>\n    </tr>\n    <tr>\n      <th>1994-01-28</th>\n      <td>-0.003666</td>\n      <td>0.010724</td>\n      <td>-0.003464</td>\n      <td>0.022728</td>\n      <td>0.016235</td>\n      <td>0.008439</td>\n      <td>-0.006757</td>\n      <td>0.018518</td>\n      <td>0.019230</td>\n      <td>0.005196</td>\n      <td>0.001906</td>\n    </tr>\n    <tr>\n      <th>1994-01-31</th>\n      <td>-0.036762</td>\n      <td>0.002652</td>\n      <td>-0.001159</td>\n      <td>-0.009524</td>\n      <td>0.009585</td>\n      <td>0.002092</td>\n      <td>0.003401</td>\n      <td>-0.007272</td>\n      <td>0.000000</td>\n      <td>0.010335</td>\n      <td>0.011406</td>\n    </tr>\n  </tbody>\n</table>\n</div>"
     },
     "execution_count": 9,
     "metadata": {},
     "output_type": "execute_result"
    }
   ],
   "source": [
    "period_stocks_returns"
   ],
   "metadata": {
    "collapsed": false,
    "ExecuteTime": {
     "end_time": "2024-07-07T19:09:52.826042Z",
     "start_time": "2024-07-07T19:09:52.796122Z"
    }
   },
   "id": "c6a3f3f934952596",
   "execution_count": 9
  },
  {
   "cell_type": "code",
   "outputs": [],
   "source": [
    "x = utils.compute_single_period_returns(period_stocks_returns, w)"
   ],
   "metadata": {
    "collapsed": false,
    "ExecuteTime": {
     "end_time": "2024-07-07T19:13:14.787298Z",
     "start_time": "2024-07-07T19:13:14.772339Z"
    }
   },
   "id": "5a41b2484927814",
   "execution_count": 13
  },
  {
   "cell_type": "code",
   "outputs": [
    {
     "data": {
      "text/plain": "<Axes: xlabel='Date'>"
     },
     "execution_count": 15,
     "metadata": {},
     "output_type": "execute_result"
    },
    {
     "data": {
      "text/plain": "<Figure size 640x480 with 1 Axes>",
      "image/png": "[encoded data removed]"
     },
     "metadata": {},
     "output_type": "display_data"
    }
   ],
   "source": [
    "x.sum(axis=1).plot()"
   ],
   "metadata": {
    "collapsed": false,
    "ExecuteTime": {
     "end_time": "2024-07-07T19:13:38.294565Z",
     "start_time": "2024-07-07T19:13:36.373674Z"
    }
   },
   "id": "c44b9895ef19f6a1",
   "execution_count": 15
  },
  {
   "cell_type": "code",
   "outputs": [],
   "source": [],
   "metadata": {
    "collapsed": false
   },
   "id": "fc4795511108a6dc"
  }
 ],
 "metadata": {
  "kernelspec": {
   "display_name": "Python 3",
   "language": "python",
   "name": "python3"
  },
  "language_info": {
   "codemirror_mode": {
    "name": "ipython",
    "version": 2
   },
   "file_extension": ".py",
   "mimetype": "text/x-python",
   "name": "python",
   "nbconvert_exporter": "python",
   "pygments_lexer": "ipython2",
   "version": "2.7.6"
  }
 },
 "nbformat": 4,
 "nbformat_minor": 5
}
